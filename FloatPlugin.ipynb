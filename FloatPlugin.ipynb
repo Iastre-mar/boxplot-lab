{
 "cells": [
  {
   "cell_type": "code",
   "execution_count": 1,
   "metadata": {},
   "outputs": [],
   "source": [
    "import pandas as pd\n",
    "import veusz.plugins as plugins\n",
    "class FloatPlugin(plugins.DatasetPlugin):\n",
    "    name = 'FloatPlugin'\n",
    "    def __init__(self):\n",
    "        self.fields = [\n",
    "        plugins.FieldDataset('ds_in', 'Input dataset'),\n",
    "        plugins.FieldFloat('value', 'Value', default=0.),\n",
    "        plugins.FieldDataset('ds_out', 'Output dataset name'),\n",
    "        ]\n",
    "        \n",
    "        \n",
    "    def getDatasets(self, fields):\n",
    "        \"\"\"Returns single output dataset (self.dsout).\n",
    "        This method should return a list of Dataset objects, which can include\n",
    "        Dataset1D, Dataset2D and DatasetText\n",
    "        \"\"\"\n",
    "\n",
    "        # raise DatasetPluginException if there are errors\n",
    "        if fields['ds_out'] == '':\n",
    "            raise plugins.DatasetPluginException('Invalid output dataset name')\n",
    "\n",
    "        # make a new dataset with name in fields['ds_out']\n",
    "        self.ds_out = plugins.Dataset1D(fields['ds_out'])\n",
    "\n",
    "        # return list of datasets\n",
    "        return [self.ds_out]\n",
    "    \n",
    "    \n",
    "    def updateDatasets(self, fields, helper):\n",
    "        \"\"\"\n",
    "        This function should *update* the dataset(s) returned by getDatasets\n",
    "        \"\"\"\n",
    "\n",
    "        # get the input dataset - helper provides methods for getting other\n",
    "        # datasets from Veusz\n",
    "        ds_in = helper.getDataset(fields['ds_in'])\n",
    "\n",
    "        # just to be explicit\n",
    "        try:\n",
    "            newdata = pd.Series(map(lambda x: float(x), ds_in.data))\n",
    "        except:\n",
    "            newdata = ds_in.data\n",
    "\n",
    "        # update output dataset with input dataset (plus value) and errorbars\n",
    "        self.ds_out.update(data=newdata,\n",
    "                           serr=ds_in.serr, perr=ds_in.perr, nerr=ds_in.nerr)"
   ]
  },
  {
   "cell_type": "code",
   "execution_count": null,
   "metadata": {},
   "outputs": [],
   "source": []
  }
 ],
 "metadata": {
  "kernelspec": {
   "display_name": "Python 3",
   "language": "python",
   "name": "python3"
  },
  "language_info": {
   "codemirror_mode": {
    "name": "ipython",
    "version": 3
   },
   "file_extension": ".py",
   "mimetype": "text/x-python",
   "name": "python",
   "nbconvert_exporter": "python",
   "pygments_lexer": "ipython3",
   "version": "3.8.3"
  }
 },
 "nbformat": 4,
 "nbformat_minor": 4
}
